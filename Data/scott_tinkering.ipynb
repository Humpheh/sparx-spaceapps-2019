{
 "cells": [
  {
   "cell_type": "markdown",
   "metadata": {},
   "source": [
    "# GLOBE data sources"
   ]
  },
  {
   "cell_type": "code",
   "execution_count": null,
   "metadata": {},
   "outputs": [],
   "source": [
    "# package setup\n",
    "\n",
    "import requests\n",
    "import json\n",
    "import pandas as pd\n",
    "import geopandas as gpd\n",
    "import numpy as np\n",
    "import rasterio\n",
    "import matplotlib.pyplot as plt\n",
    "import sys\n",
    "import utm\n",
    "import rasterio\n",
    "import rasterio.features"
   ]
  },
  {
   "cell_type": "code",
   "execution_count": null,
   "metadata": {},
   "outputs": [],
   "source": [
    "# download mosquito data from GLOBE API\n",
    "base_url = 'https://api.globe.gov/search/v1/measurement/protocol/'\n",
    "\n",
    "query_params = {\n",
    "  'protocols': 'mosquito_habitat_mapper',\n",
    "  'geojson': \"TRUE\",\n",
    "  'sample': \"FALSE\"\n",
    "}\n",
    "\n",
    "mosquito_data_json = requests.get(base_url, params = query_params).json()\n",
    "\n",
    "parsedData = []\n",
    "\n",
    "for obs in mosquito_data_json['features']:\n",
    "    parsedObs = obs['properties']\n",
    "\n",
    "    latitude = obs['geometry']['coordinates'][1]\n",
    "    longitude = obs['geometry']['coordinates'][0]\n",
    "\n",
    "    parsedObs['latitude'] = latitude\n",
    "    parsedObs['longitude'] = longitude\n",
    "\n",
    "    parsedData.append(parsedObs)"
   ]
  },
  {
   "cell_type": "code",
   "execution_count": null,
   "metadata": {},
   "outputs": [],
   "source": [
    "# here's what the data looks like...\n",
    "gdf = gpd.GeoDataFrame(\n",
    "    parsedData, \n",
    "    geometry = gpd.points_from_xy(df.longitude, df.latitude),\n",
    "    crs = {'init' :'epsg:4326'}\n",
    ").rename(columns = {\n",
    "    \"countryName\": \"country\",\n",
    "    \"mosquitohabitatmapperMeasuredAt\": \"timestamp\",\n",
    "    \"mosquitohabitatmapperWaterSource\": \"waterSource\",\n",
    "    \"mosquitohabitatmapperWaterSourceType\": \"sourceType\",\n",
    "    \"mosquitohabitatmapperLarvaeCount\": \"larvaeCount\",\n",
    "    \"mosquitohabitatmapperMosquitoAdults\": \"adults\",\n",
    "    \"mosquitohabitatmapperMosquitoEggs\": \"eggs\",\n",
    "    \"mosquitohabitatmapperMosquitoPupae\": \"pupae\",\n",
    "    \"mosquitohabitatmapperGenus\": \"genus\",\n",
    "    \"mosquitohabitatmapperSpecies\": \"species\",\n",
    "    \"mosquitohabitatmapperLarvaFullBodyPhotoUrls\": \"larvae_images\",\n",
    "    \"mosquitohabitatmapperAbdomenCloseupPhotoUrls\": \"abdomen_images\",\n",
    "    \"mosquitohabitatmapperWaterSourcePhotoUrls\": \"water_images\",\n",
    "}).drop(columns = {\n",
    "    \"mosquitohabitatmapperMeasurementLongitude\", \n",
    "    \"mosquitohabitatmapperMeasurementLatitude\",\n",
    "    \"countryCode\",\n",
    "    \"mosquitohabitatmapperBreedingGroundEliminated\",\n",
    "    \"elevation\",\n",
    "    \"mosquitohabitatmapperDataSource\",\n",
    "    \"mosquitohabitatmapperMeasurementElevation\",\n",
    "    \"mosquitohabitatmapperMosquitoHabitatMapperId\",\n",
    "    \"mosquitohabitatmapperUserid\",\n",
    "    \"organizationId\",\n",
    "    \"organizationName\",\n",
    "    \"protocol\",\n",
    "    \"siteId\",\n",
    "    \"siteName\",\n",
    "    \"mosquitohabitatmapperLastIdentifyStage\",\n",
    "    \"mosquitohabitatmapperComments\",\n",
    "    \"geometry\"\n",
    "})\n",
    "\n",
    "def coalesce(df, column_names):\n",
    "    i = iter(column_names)\n",
    "    column_name = next(i)\n",
    "    answer = df[column_name]\n",
    "    for column_name in i:\n",
    "        answer = answer.fillna(df[column_name])\n",
    "    return answer\n",
    "\n",
    "def first_image(series):\n",
    "    newvar = []\n",
    "    for (i, photos) in enumerate(series):\n",
    "        if np.isreal(photos) and np.isnan(photos):\n",
    "            newvar.append(\"\")\n",
    "            continue\n",
    "        newvar.append(photos.split(\";\")[0])\n",
    "    return newvar\n",
    "\n",
    "gdf['image_name'] = coalesce(gdf, [\"abdomen_images\", \"larvae_images\", \"water_images\"])\n",
    "gdf['image_name'] = first_image(gdf.image_name)\n",
    "\n",
    "gdf = gdf.drop(\n",
    "    columns = {\"abdomen_images\", \"larvae_images\", \"water_images\"}\n",
    ")\n",
    "\n",
    "gdf"
   ]
  },
  {
   "cell_type": "markdown",
   "metadata": {},
   "source": [
    "## Raster map of world"
   ]
  },
  {
   "cell_type": "code",
   "execution_count": null,
   "metadata": {},
   "outputs": [],
   "source": [
    "world = gpd.read_file(gpd.datasets.get_path('naturalearth_lowres'))\n",
    "ax = world.plot(figsize = (25, 15))\n",
    "gdf.plot(ax = ax, color = \"red\", markersize = 3)"
   ]
  },
  {
   "cell_type": "code",
   "execution_count": null,
   "metadata": {},
   "outputs": [],
   "source": [
    "raster = rasterio.features.rasterize(\n",
    "  [(x.geometry, 1) for i, x in world.iterrows()],\n",
    "    out_shape=(180, 360),\n",
    "    transform=rasterio.Affine(1,0,-180,0,-1,90)\n",
    ")\n",
    "\n",
    "np.savetxt(\"processed/raster-world-map.txt\", raster, delimiter = \"\", fmt = \"%1u\")\n",
    "\n",
    "plt.imshow(raster)"
   ]
  },
  {
   "cell_type": "code",
   "execution_count": null,
   "metadata": {},
   "outputs": [],
   "source": [
    "np.to_"
   ]
  },
  {
   "cell_type": "code",
   "execution_count": null,
   "metadata": {},
   "outputs": [],
   "source": []
  }
 ],
 "metadata": {
  "kernelspec": {
   "display_name": "Python 3",
   "language": "python",
   "name": "python3"
  },
  "language_info": {
   "codemirror_mode": {
    "name": "ipython",
    "version": 3
   },
   "file_extension": ".py",
   "mimetype": "text/x-python",
   "name": "python",
   "nbconvert_exporter": "python",
   "pygments_lexer": "ipython3",
   "version": "3.7.4"
  }
 },
 "nbformat": 4,
 "nbformat_minor": 4
}
